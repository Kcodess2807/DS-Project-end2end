{
 "cells": [
  {
   "cell_type": "code",
   "execution_count": 1,
   "id": "38446656",
   "metadata": {},
   "outputs": [],
   "source": [
    "import os"
   ]
  },
  {
   "cell_type": "code",
   "execution_count": 2,
   "id": "438892e0",
   "metadata": {},
   "outputs": [
    {
     "data": {
      "text/plain": [
       "'d:\\\\MLOPs-Tutorials\\\\DS-Project-end2end\\\\research'"
      ]
     },
     "execution_count": 2,
     "metadata": {},
     "output_type": "execute_result"
    }
   ],
   "source": [
    "pwd"
   ]
  },
  {
   "cell_type": "code",
   "execution_count": 3,
   "id": "5a92ff07",
   "metadata": {},
   "outputs": [
    {
     "data": {
      "text/plain": [
       "'d:\\\\MLOPs-Tutorials\\\\DS-Project-end2end'"
      ]
     },
     "execution_count": 3,
     "metadata": {},
     "output_type": "execute_result"
    }
   ],
   "source": [
    "os.chdir('../')\n",
    "%pwd"
   ]
  },
  {
   "cell_type": "markdown",
   "id": "f9f29767",
   "metadata": {},
   "source": [
    "## **DATA INGESTION ( updating config.yaml file!!)**"
   ]
  },
  {
   "cell_type": "code",
   "execution_count": 4,
   "id": "b86bac08",
   "metadata": {},
   "outputs": [],
   "source": [
    "from dataclasses import dataclass\n",
    "from pathlib import Path\n",
    "\n",
    "@dataclass\n",
    "class DataIngestionConfig:\n",
    "    root_dir:Path\n",
    "    source_URL: str\n",
    "    local_data_file: Path\n",
    "    unzip_dir: Path"
   ]
  },
  {
   "cell_type": "code",
   "execution_count": 5,
   "id": "79defce2",
   "metadata": {},
   "outputs": [],
   "source": [
    "from src.dataScience.constants import CONFIG_FILE_PATH, PARAMS_FILE_PATH, SCHEMA_FILE_PATH\n",
    "from src.dataScience.utils.common import read_yaml, create_directory"
   ]
  },
  {
   "cell_type": "code",
   "execution_count": 6,
   "id": "56cf4162",
   "metadata": {},
   "outputs": [],
   "source": [
    "class ConfigurationManager:\n",
    "    def __init__(self, \n",
    "                 config_filepath=CONFIG_FILE_PATH, \n",
    "                 params_filepath=PARAMS_FILE_PATH, \n",
    "                 schema_filepath=SCHEMA_FILE_PATH):\n",
    "        \n",
    "        \n",
    "        self.config = read_yaml(config_filepath)\n",
    "        self.params = read_yaml(params_filepath)\n",
    "        self.schema = read_yaml(schema_filepath)\n",
    "\n",
    "        \n",
    "        create_directory([self.config['artifacts_root']])\n",
    "    \n",
    "    def get_data_ingestion_config(self) -> DataIngestionConfig:\n",
    "        config = self.config['data_ingestion']\n",
    "        create_directory([config['root_dir']])\n",
    "        \n",
    "        data_ingestion_config = DataIngestionConfig(\n",
    "            root_dir=config['root_dir'], \n",
    "            source_URL=config['source_URL'],  # fixed typo\n",
    "            local_data_file=config['local_data_file'], \n",
    "            unzip_dir=config['unzip_dir']\n",
    "        )\n",
    "        return data_ingestion_config\n"
   ]
  },
  {
   "cell_type": "code",
   "execution_count": 7,
   "id": "edc5f0dc",
   "metadata": {},
   "outputs": [],
   "source": [
    "from urllib import request\n",
    "from src.dataScience import logger\n",
    "import zipfile\n",
    "\n",
    "#component-data-ingestion\n",
    "class DataIngestion:\n",
    "    def __init__(self, config:DataIngestionConfig):\n",
    "        self.config=config\n",
    "        \n",
    "    def donwload_file(self):\n",
    "        if not os.path.exists(self.config.local_data_file):\n",
    "            filename, headers=request.urlretrieve(\n",
    "                url=self.config.source_URL, \n",
    "                filename=self.config.local_data_file\n",
    "            )\n",
    "            logger.info(f'{filename} download! with following info: \\n{headers}')\n",
    "        else:\n",
    "            logger.info(f'file already exists')\n",
    "    \n",
    "    def extract_zip(self):\n",
    "            unzip_path=self.config.unzip_dir\n",
    "            os.makedirs(unzip_path, exist_ok=True)\n",
    "            with zipfile.ZipFile(self.config.local_data_file, 'r') as zip_ref:\n",
    "                zip_ref.extractall(unzip_path)\n",
    "            "
   ]
  },
  {
   "cell_type": "code",
   "execution_count": 9,
   "id": "f1134c19",
   "metadata": {},
   "outputs": [
    {
     "name": "stdout",
     "output_type": "stream",
     "text": [
      "[2025-08-05 21:37:13,557: INFO: common: yaml file: config\\config.yaml loaded succesfully]\n",
      "[2025-08-05 21:37:13,559: INFO: common: yaml file: params.yaml loaded succesfully]\n",
      "[2025-08-05 21:37:13,559: INFO: common: yaml file: schema.yaml loaded succesfully]\n",
      "[2025-08-05 21:37:13,562: INFO: common: created directory at: artifacts]\n",
      "[2025-08-05 21:37:13,565: INFO: common: created directory at: artifacts/data_ingestion]\n",
      "[2025-08-05 21:37:15,034: INFO: 653420479: artifacts/data_ingestion/data.zip download! with following info: \n",
      "Connection: close\n",
      "Content-Length: 23329\n",
      "Cache-Control: max-age=300\n",
      "Content-Security-Policy: default-src 'none'; style-src 'unsafe-inline'; sandbox\n",
      "Content-Type: application/zip\n",
      "ETag: \"c69888a4ae59bc5a893392785a938ccd4937981c06ba8a9d6a21aa52b4ab5b6e\"\n",
      "Strict-Transport-Security: max-age=31536000\n",
      "X-Content-Type-Options: nosniff\n",
      "X-Frame-Options: deny\n",
      "X-XSS-Protection: 1; mode=block\n",
      "X-GitHub-Request-Id: 2520:C0D1C:14EDDF:2C7735:68922C33\n",
      "Accept-Ranges: bytes\n",
      "Date: Tue, 05 Aug 2025 16:07:16 GMT\n",
      "Via: 1.1 varnish\n",
      "X-Served-By: cache-maa10223-MAA\n",
      "X-Cache: MISS\n",
      "X-Cache-Hits: 0\n",
      "X-Timer: S1754410036.204901,VS0,VE265\n",
      "Vary: Authorization,Accept-Encoding\n",
      "Access-Control-Allow-Origin: *\n",
      "Cross-Origin-Resource-Policy: cross-origin\n",
      "X-Fastly-Request-ID: 02c4571df58876d15fa62ae3074754ea1461c407\n",
      "Expires: Tue, 05 Aug 2025 16:12:16 GMT\n",
      "Source-Age: 0\n",
      "\n",
      "]\n"
     ]
    }
   ],
   "source": [
    "try:\n",
    "    config=ConfigurationManager()\n",
    "    data_ingestion_config=config.get_data_ingestion_config()\n",
    "    data_ingestion=DataIngestion(config=data_ingestion_config)\n",
    "    data_ingestion.donwload_file()\n",
    "    data_ingestion.extract_zip()\n",
    "except Exception as e:\n",
    "    raise e"
   ]
  }
 ],
 "metadata": {
  "kernelspec": {
   "display_name": "mlopsTUT",
   "language": "python",
   "name": "python3"
  },
  "language_info": {
   "codemirror_mode": {
    "name": "ipython",
    "version": 3
   },
   "file_extension": ".py",
   "mimetype": "text/x-python",
   "name": "python",
   "nbconvert_exporter": "python",
   "pygments_lexer": "ipython3",
   "version": "3.10.18"
  }
 },
 "nbformat": 4,
 "nbformat_minor": 5
}
