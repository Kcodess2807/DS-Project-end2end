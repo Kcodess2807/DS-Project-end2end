{
 "cells": [
  {
   "cell_type": "code",
   "execution_count": 4,
   "id": "63fc07be",
   "metadata": {},
   "outputs": [
    {
     "name": "stdout",
     "output_type": "stream",
     "text": [
      "current working directory: d:\\MLOPs-Tutorials\\DS-Project-end2end\\research\n",
      "updated working directory: d:\\MLOPs-Tutorials\\DS-Project-end2end\n"
     ]
    }
   ],
   "source": [
    "import os\n",
    "\n",
    "print(f'current working directory: {os.getcwd()}')\n",
    "os.chdir('../')\n",
    "print(f'updated working directory: {os.getcwd()}')\n"
   ]
  },
  {
   "cell_type": "code",
   "execution_count": 5,
   "id": "4b18fed0",
   "metadata": {},
   "outputs": [],
   "source": [
    "from dataclasses import dataclass\n",
    "from pathlib import Path"
   ]
  },
  {
   "cell_type": "code",
   "execution_count": 16,
   "id": "74a202e7",
   "metadata": {},
   "outputs": [],
   "source": [
    "@dataclass\n",
    "class ModelTrainerConfig:\n",
    "    root_dir:Path\n",
    "    train_data_path:Path\n",
    "    test_data_path:Path\n",
    "    model_name:str\n",
    "    #these params will be initialised in params.yaml\n",
    "    alpha:float\n",
    "    l1_ratio:float\n",
    "    target_column:str"
   ]
  },
  {
   "cell_type": "code",
   "execution_count": 17,
   "id": "5d4b6dd6",
   "metadata": {},
   "outputs": [],
   "source": [
    "from src.dataScience.constants import CONFIG_FILE_PATH, PARAMS_FILE_PATH, SCHEMA_FILE_PATH\n",
    "from src.dataScience.utils.common import read_yaml, create_directory"
   ]
  },
  {
   "cell_type": "code",
   "execution_count": 32,
   "id": "80d99e12",
   "metadata": {},
   "outputs": [],
   "source": [
    "class ConfigurationManager:\n",
    "    def __init__(\n",
    "        self, \n",
    "        config_filepath=CONFIG_FILE_PATH,\n",
    "        params_filepath=PARAMS_FILE_PATH,\n",
    "        schema_filepath=SCHEMA_FILE_PATH\n",
    "    ):\n",
    "        \n",
    "        self.config=read_yaml(config_filepath)\n",
    "        self.params=read_yaml(params_filepath)\n",
    "        self.schema=read_yaml(schema_filepath)\n",
    "        \n",
    "        create_directory([self.config.artifacts_root])\n",
    "    \n",
    "    def get_model_trainer_config(self) -> ModelTrainerConfig:\n",
    "        config=self.config.model_trainer #config dict se hum konsi key use krenge!!\n",
    "        params=self.params.ElasticNet\n",
    "        schema=self.schema.target_column\n",
    "        create_directory([config.root_dir])\n",
    "        \n",
    "        model_trainer_config=ModelTrainerConfig(\n",
    "            root_dir=config.root_dir,\n",
    "            train_data_path=config.train_data_path, \n",
    "            test_data_path=config.test_data_path, \n",
    "            model_name=config.model_name,\n",
    "            alpha=params.alpha,\n",
    "            l1_ratio=params.l1_ratio,\n",
    "            target_column = schema.name\n",
    "\n",
    "        )\n",
    "        return model_trainer_config"
   ]
  },
  {
   "cell_type": "code",
   "execution_count": 37,
   "id": "eb29a932",
   "metadata": {},
   "outputs": [],
   "source": [
    "import os\n",
    "from src.dataScience import logger\n",
    "from sklearn.linear_model import ElasticNet\n",
    "import joblib\n",
    "import pandas as pd"
   ]
  },
  {
   "cell_type": "code",
   "execution_count": 34,
   "id": "ef63074b",
   "metadata": {},
   "outputs": [],
   "source": [
    "class ModelTrainer:\n",
    "    def __init__(self, config:ModelTrainerConfig):\n",
    "        self.config=config\n",
    "        \n",
    "    def train(self):\n",
    "        train_data=pd.read_csv(self.config.train_data_path)\n",
    "        test_data=pd.read_csv(self.config.test_data_path)\n",
    "        \n",
    "        train_x=train_data.drop([self.config.target_column], axis=1)\n",
    "        test_x=test_data.drop([self.config.target_column], axis=1)\n",
    "        \n",
    "        train_y=train_data[[self.config.target_column]]\n",
    "        test_y=test_data[[self.config.target_column]]   \n",
    "        \n",
    "        lr=ElasticNet(alpha=self.config.alpha, l1_ratio=self.config.l1_ratio, random_state=42)\n",
    "        \n",
    "        lr.fit(train_x, train_y)\n",
    "        \n",
    "        joblib.dump(lr, os.path.join(self.config.root_dir, self.config.model_name))\n"
   ]
  },
  {
   "cell_type": "code",
   "execution_count": 35,
   "id": "4bb82ed1",
   "metadata": {},
   "outputs": [
    {
     "name": "stdout",
     "output_type": "stream",
     "text": [
      "D:\\MLOPs-Tutorials\\DS-Project-end2end\\schema.yaml\n",
      "[2025-08-10 01:35:58,726: INFO: common: yaml file: schema.yaml loaded succesfully]\n",
      "dict_keys(['COLUMNS', 'target_column'])\n",
      "{'COLUMNS': {'fixed acidity': 'float64', 'volatile acidity': 'float64', 'citric acid': 'float64', 'residual sugar': 'float64', 'chlorides': 'float64', 'free sulfur dioxide': 'float64', 'total sulfur dioxide': 'float64', 'density': 'float64', 'pH': 'float64', 'sulphates': 'float64', 'alcohol': 'float64', 'quality': 'int64'}, 'target_column': {'name': 'quality'}}\n"
     ]
    }
   ],
   "source": [
    "schema_path = Path('schema.yaml')\n",
    "print(schema_path.resolve())  # absolute path\n",
    "schema = read_yaml(schema_path)\n",
    "print(schema.keys())\n",
    "print(schema)"
   ]
  },
  {
   "cell_type": "code",
   "execution_count": 39,
   "id": "b99c4e4e",
   "metadata": {},
   "outputs": [
    {
     "name": "stdout",
     "output_type": "stream",
     "text": [
      "[2025-08-10 01:37:08,381: INFO: common: yaml file: config\\config.yaml loaded succesfully]\n",
      "[2025-08-10 01:37:08,382: INFO: common: yaml file: params.yaml loaded succesfully]\n",
      "[2025-08-10 01:37:08,384: INFO: common: yaml file: schema.yaml loaded succesfully]\n",
      "[2025-08-10 01:37:08,386: INFO: common: created directory at: artifacts]\n",
      "[2025-08-10 01:37:08,388: INFO: common: created directory at: artifacts/model_trainer]\n"
     ]
    }
   ],
   "source": [
    "try:\n",
    "    config = ConfigurationManager()\n",
    "    model_trainer_config = config.get_model_trainer_config()\n",
    "    model_trainer = ModelTrainer(config=model_trainer_config)\n",
    "    model_trainer.train()\n",
    "except Exception as e:\n",
    "    raise e"
   ]
  },
  {
   "cell_type": "code",
   "execution_count": null,
   "id": "6dcd5acb",
   "metadata": {},
   "outputs": [],
   "source": []
  }
 ],
 "metadata": {
  "kernelspec": {
   "display_name": "mlopsTUT",
   "language": "python",
   "name": "python3"
  },
  "language_info": {
   "codemirror_mode": {
    "name": "ipython",
    "version": 3
   },
   "file_extension": ".py",
   "mimetype": "text/x-python",
   "name": "python",
   "nbconvert_exporter": "python",
   "pygments_lexer": "ipython3",
   "version": "3.10.18"
  }
 },
 "nbformat": 4,
 "nbformat_minor": 5
}
